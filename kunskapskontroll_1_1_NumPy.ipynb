{
 "cells": [
  {
   "cell_type": "markdown",
   "metadata": {},
   "source": [
    "# NumPy"
   ]
  },
  {
   "cell_type": "markdown",
   "metadata": {},
   "source": [
    "Read the links: https://numpy.org/doc/stable/user/quickstart.html  and https://numpy.org/doc/stable/user/basics.broadcasting.html  before solving the exercises. "
   ]
  },
  {
   "cell_type": "code",
   "execution_count": 1,
   "metadata": {},
   "outputs": [],
   "source": [
    "import numpy as np"
   ]
  },
  {
   "cell_type": "markdown",
   "metadata": {},
   "source": [
    "### Print out the dimension (number of axes), shape, size and the datatype of the matrix A."
   ]
  },
  {
   "cell_type": "code",
   "execution_count": 2,
   "metadata": {},
   "outputs": [],
   "source": [
    "A = np.arange(1, 16).reshape(3,5)"
   ]
  },
  {
   "cell_type": "code",
   "execution_count": 3,
   "metadata": {},
   "outputs": [
    {
     "name": "stdout",
     "output_type": "stream",
     "text": [
      "Dimension (number of axes): 2\n",
      "Shape: (3, 5)\n",
      "Size: 15\n",
      "Datatype: int32\n"
     ]
    }
   ],
   "source": [
    "# Print the dimension (number of axes) of A\n",
    "print(\"Dimension (number of axes):\", A.ndim)\n",
    "\n",
    "# Print the shape (number of rows and columns) of A\n",
    "print(\"Shape:\", A.shape)\n",
    "\n",
    "# Print the size (total number of elements) of A\n",
    "print(\"Size:\", A.size)\n",
    "\n",
    "# Print the datatype of A\n",
    "print(\"Datatype:\", A.dtype)"
   ]
  },
  {
   "cell_type": "markdown",
   "metadata": {},
   "source": [
    "### Do the following computations on the matrices B and C: \n",
    "* Elementwise subtraction. \n",
    "* Elementwise multiplication. \n",
    "* Matrix multiplication (by default you should use the @ operator)."
   ]
  },
  {
   "cell_type": "code",
   "execution_count": 4,
   "metadata": {},
   "outputs": [
    {
     "name": "stdout",
     "output_type": "stream",
     "text": [
      "[[1 2 3]\n",
      " [4 5 6]\n",
      " [7 8 9]]\n",
      "\n",
      "[[2. 2. 2.]\n",
      " [2. 2. 2.]\n",
      " [2. 2. 2.]]\n"
     ]
    }
   ],
   "source": [
    "B = np.arange(1, 10).reshape(3, 3)\n",
    "C = np.ones((3, 3))*2\n",
    "\n",
    "print(B)\n",
    "print()\n",
    "print(C)"
   ]
  },
  {
   "cell_type": "code",
   "execution_count": 5,
   "metadata": {},
   "outputs": [
    {
     "name": "stdout",
     "output_type": "stream",
     "text": [
      "Elementwise Subtraction:\n",
      "[[-1.  0.  1.]\n",
      " [ 2.  3.  4.]\n",
      " [ 5.  6.  7.]]\n",
      "\n",
      "Elementwise Multiplication:\n",
      "[[ 2.  4.  6.]\n",
      " [ 8. 10. 12.]\n",
      " [14. 16. 18.]]\n",
      "\n",
      "Matrix Multiplication:\n",
      "[[12. 12. 12.]\n",
      " [30. 30. 30.]\n",
      " [48. 48. 48.]]\n"
     ]
    }
   ],
   "source": [
    "# Elementwise subtraction\n",
    "elementwise_subtraction = B - C\n",
    "print(\"Elementwise Subtraction:\")\n",
    "print(elementwise_subtraction)\n",
    "\n",
    "# Elementwise multiplication\n",
    "elementwise_multiplication = B * C\n",
    "print(\"\\nElementwise Multiplication:\")\n",
    "print(elementwise_multiplication)\n",
    "\n",
    "# Matrix multiplication\n",
    "matrix_multiplication = B @ C\n",
    "print(\"\\nMatrix Multiplication:\")\n",
    "print(matrix_multiplication)"
   ]
  },
  {
   "cell_type": "markdown",
   "metadata": {},
   "source": [
    "### Do the following calculations on the matrix:\n",
    "* Exponentiate each number elementwise (use the np.exp function).\n",
    "\n",
    "* Calculate the minimum value in the whole matrix. \n",
    "* Calculcate the minimum value in each row. \n",
    "* Calculcate the minimum value in each column. \n",
    "\n",
    "\n",
    "* Find the index value for the minimum value in the whole matrix (hint: use np.argmin).\n",
    "* Find the index value for the minimum value in each row (hint: use np.argmin).\n",
    "\n",
    "\n",
    "* Calculate the sum for all elements.\n",
    "* Calculate the mean for each column. \n",
    "* Calculate the median for each column. "
   ]
  },
  {
   "cell_type": "code",
   "execution_count": 6,
   "metadata": {},
   "outputs": [
    {
     "name": "stdout",
     "output_type": "stream",
     "text": [
      "[[1 2 3]\n",
      " [4 5 6]\n",
      " [7 8 9]]\n"
     ]
    }
   ],
   "source": [
    "B = np.arange(1, 10).reshape(3, 3)\n",
    "print(B)"
   ]
  },
  {
   "cell_type": "code",
   "execution_count": 7,
   "metadata": {},
   "outputs": [
    {
     "name": "stdout",
     "output_type": "stream",
     "text": [
      "\n",
      "Exponentiated Matrix:\n",
      "[[2.71828183e+00 7.38905610e+00 2.00855369e+01]\n",
      " [5.45981500e+01 1.48413159e+02 4.03428793e+02]\n",
      " [1.09663316e+03 2.98095799e+03 8.10308393e+03]]\n",
      "\n",
      "Minimum Value in the Whole Matrix: 1\n",
      "\n",
      "Minimum Value in Each Row:\n",
      "[1 4 7]\n",
      "\n",
      "Minimum Value in Each Column:\n",
      "[1 2 3]\n",
      "\n",
      "Index Value for the Minimum Value in the Whole Matrix (Row, Column): 0 0\n",
      "\n",
      "Index Values for the Minimum Value in Each Row:\n",
      "[0 0 0]\n",
      "\n",
      "Sum of All Elements: 45\n",
      "\n",
      "Mean for Each Column:\n",
      "[4. 5. 6.]\n",
      "\n",
      "Median for Each Column:\n",
      "[4. 5. 6.]\n"
     ]
    }
   ],
   "source": [
    "# Exponentiate each number elementwise\n",
    "exponentiated_matrix = np.exp(B)\n",
    "print(\"\\nExponentiated Matrix:\")\n",
    "print(exponentiated_matrix)\n",
    "\n",
    "# Calculate the minimum value in the whole matrix\n",
    "min_value = np.min(B)\n",
    "print(\"\\nMinimum Value in the Whole Matrix:\", min_value)\n",
    "\n",
    "# Calculate the minimum value in each row\n",
    "min_values_in_rows = np.min(B, axis=1)\n",
    "print(\"\\nMinimum Value in Each Row:\")\n",
    "print(min_values_in_rows)\n",
    "\n",
    "# Calculate the minimum value in each column\n",
    "min_values_in_columns = np.min(B, axis=0)\n",
    "print(\"\\nMinimum Value in Each Column:\")\n",
    "print(min_values_in_columns)\n",
    "\n",
    "# Find the index value for the minimum value in the whole matrix\n",
    "min_index = np.argmin(B)\n",
    "min_index_row, min_index_col = np.unravel_index(min_index, B.shape)\n",
    "print(\"\\nIndex Value for the Minimum Value in the Whole Matrix (Row, Column):\", min_index_row, min_index_col)\n",
    "\n",
    "# Find the index value for the minimum value in each row\n",
    "min_indices_in_rows = np.argmin(B, axis=1)\n",
    "print(\"\\nIndex Values for the Minimum Value in Each Row:\")\n",
    "print(min_indices_in_rows)\n",
    "\n",
    "# Calculate the sum for all elements\n",
    "sum_of_elements = np.sum(B)\n",
    "print(\"\\nSum of All Elements:\", sum_of_elements)\n",
    "\n",
    "# Calculate the mean for each column\n",
    "mean_of_columns = np.mean(B, axis=0)\n",
    "print(\"\\nMean for Each Column:\")\n",
    "print(mean_of_columns)\n",
    "\n",
    "# Calculate the median for each column\n",
    "median_of_columns = np.median(B, axis=0)\n",
    "print(\"\\nMedian for Each Column:\")\n",
    "print(median_of_columns)"
   ]
  },
  {
   "cell_type": "markdown",
   "metadata": {},
   "source": [
    "### What does it mean when you provide fewer indices than axes when slicing? See example below."
   ]
  },
  {
   "cell_type": "code",
   "execution_count": 8,
   "metadata": {},
   "outputs": [
    {
     "name": "stdout",
     "output_type": "stream",
     "text": [
      "[[ 1  2  3  4  5]\n",
      " [ 6  7  8  9 10]\n",
      " [11 12 13 14 15]]\n"
     ]
    }
   ],
   "source": [
    "print(A)"
   ]
  },
  {
   "cell_type": "code",
   "execution_count": 9,
   "metadata": {},
   "outputs": [
    {
     "data": {
      "text/plain": [
       "array([ 6,  7,  8,  9, 10])"
      ]
     },
     "execution_count": 9,
     "metadata": {},
     "output_type": "execute_result"
    }
   ],
   "source": [
    "A[1]"
   ]
  },
  {
   "cell_type": "markdown",
   "metadata": {},
   "source": [
    "**Answer:**"
   ]
  },
  {
   "cell_type": "code",
   "execution_count": 10,
   "metadata": {},
   "outputs": [
    {
     "data": {
      "text/plain": [
       "\"\\n    The array A is being printed first. Then, you are using basic slicing with A[1], which means you want to extract the second row (index 1) from the array A. This operation returns a 1D subarray containing the elements of the second row of A.\\n\\n    In NumPy, if you provide fewer indices than axes during slicing, the array is sliced along the specified axis, and you get a view of the data with reduced dimensionality. In this case, you're reducing a 2D array (matrix) to a 1D array (vector) by slicing along the rows.\\n\""
      ]
     },
     "execution_count": 10,
     "metadata": {},
     "output_type": "execute_result"
    }
   ],
   "source": [
    "\"\"\"\n",
    "    The array A is being printed first. Then, you are using basic slicing with A[1], which means you want to extract the second row (index 1) from the array A. This operation returns a 1D subarray containing the elements of the second row of A.\n",
    "\n",
    "    In NumPy, if you provide fewer indices than axes during slicing, the array is sliced along the specified axis, and you get a view of the data with reduced dimensionality. In this case, you're reducing a 2D array (matrix) to a 1D array (vector) by slicing along the rows.\n",
    "\"\"\""
   ]
  },
  {
   "cell_type": "markdown",
   "metadata": {},
   "source": [
    "### Iterating over multidimensional arrays is done with respect to the first axis, so in the example below we iterate trough the rows. If you would like to iterate through the array *elementwise*, how would you do that?"
   ]
  },
  {
   "cell_type": "code",
   "execution_count": 11,
   "metadata": {},
   "outputs": [
    {
     "data": {
      "text/plain": [
       "array([[ 1,  2,  3,  4,  5],\n",
       "       [ 6,  7,  8,  9, 10],\n",
       "       [11, 12, 13, 14, 15]])"
      ]
     },
     "execution_count": 11,
     "metadata": {},
     "output_type": "execute_result"
    }
   ],
   "source": [
    "A"
   ]
  },
  {
   "cell_type": "code",
   "execution_count": 12,
   "metadata": {},
   "outputs": [
    {
     "name": "stdout",
     "output_type": "stream",
     "text": [
      "[1 2 3 4 5]\n",
      "[ 6  7  8  9 10]\n",
      "[11 12 13 14 15]\n"
     ]
    }
   ],
   "source": [
    "for i in A:\n",
    "    print(i)"
   ]
  },
  {
   "cell_type": "code",
   "execution_count": 13,
   "metadata": {},
   "outputs": [
    {
     "name": "stdout",
     "output_type": "stream",
     "text": [
      "1\n",
      "2\n",
      "3\n",
      "4\n",
      "5\n",
      "6\n",
      "7\n",
      "8\n",
      "9\n"
     ]
    }
   ],
   "source": [
    "# You can use nested loops to traverse all elements in the array. \n",
    "import numpy as np\n",
    "\n",
    "A = np.array([[1, 2, 3], [4, 5, 6], [7, 8, 9]])\n",
    "\n",
    "# Iterate through the array element-wise\n",
    "for row in A:\n",
    "    for element in row:\n",
    "        print(element)"
   ]
  },
  {
   "cell_type": "markdown",
   "metadata": {},
   "source": [
    "### Explain what the code below does. More specifically, b has three axes - what does this mean? "
   ]
  },
  {
   "cell_type": "code",
   "execution_count": 14,
   "metadata": {},
   "outputs": [
    {
     "name": "stdout",
     "output_type": "stream",
     "text": [
      "[ 0  1  2  3  4  5  6  7  8  9 10 11 12 13 14 15 16 17 18 19 20 21 22 23\n",
      " 24 25 26 27 28 29]\n",
      "\n",
      "[[[ 0  1  2  3  4]\n",
      "  [ 5  6  7  8  9]\n",
      "  [10 11 12 13 14]]\n",
      "\n",
      " [[15 16 17 18 19]\n",
      "  [20 21 22 23 24]\n",
      "  [25 26 27 28 29]]]\n"
     ]
    }
   ],
   "source": [
    "a = np.arange(30)\n",
    "b = a.reshape((2, 3, -1))\n",
    "print(a)\n",
    "print()\n",
    "\n",
    "print(b)"
   ]
  },
  {
   "cell_type": "code",
   "execution_count": 15,
   "metadata": {},
   "outputs": [
    {
     "data": {
      "text/plain": [
       "'\\n\\n    The term \"axes\" in the context of NumPy arrays refers to the dimensions of the array. The array b has three axes because it is a 3D array. Each axis represents a different dimension:\\n\\n    The first axis (axis 0) has a size of 2, corresponding to the first dimension.\\n    The second axis (axis 1) has a size of 3, corresponding to the second dimension.\\n    The third axis (axis 2) has a size of 5, corresponding to the third dimension.\\n\\n'"
      ]
     },
     "execution_count": 15,
     "metadata": {},
     "output_type": "execute_result"
    }
   ],
   "source": [
    "\"\"\"\n",
    "\n",
    "    The term \"axes\" in the context of NumPy arrays refers to the dimensions of the array. The array b has three axes because it is a 3D array. Each axis represents a different dimension:\n",
    "\n",
    "    The first axis (axis 0) has a size of 2, corresponding to the first dimension.\n",
    "    The second axis (axis 1) has a size of 3, corresponding to the second dimension.\n",
    "    The third axis (axis 2) has a size of 5, corresponding to the third dimension.\n",
    "\n",
    "\"\"\""
   ]
  },
  {
   "cell_type": "markdown",
   "metadata": {},
   "source": [
    "### Broadcasting\n",
    "**Read the following link about broadcasting: https://numpy.org/doc/stable/user/basics.broadcasting.html#basics-broadcasting**"
   ]
  },
  {
   "cell_type": "markdown",
   "metadata": {},
   "source": [
    "# Remark on Broadcasting when doing Linear Algebra calculations in Python. "
   ]
  },
  {
   "cell_type": "markdown",
   "metadata": {},
   "source": [
    "### From the mathematical rules of matrix addition, the operation below (m1 + m2) does not make sense. The reason is that matrix addition requires two matrices of the same size. In Python however, it works due to broadcasting rules in NumPy. So you must be careful when doing Linear Algebra calculations in Python since they do not follow the \"mathematical rules\". This can however easily be handled by doing some simple programming, for example validating that two matrices have the same shape is easy if you for instance want to add two matrices. "
   ]
  },
  {
   "cell_type": "code",
   "execution_count": 16,
   "metadata": {},
   "outputs": [
    {
     "name": "stdout",
     "output_type": "stream",
     "text": [
      "[[2 3]\n",
      " [4 5]]\n"
     ]
    }
   ],
   "source": [
    "m1 = np.array([[1, 2], [3, 4]])\n",
    "m2 = np.array([1, 1])\n",
    "print(m1 + m2)"
   ]
  },
  {
   "cell_type": "markdown",
   "metadata": {},
   "source": [
    "### The example below would also not be allowed if following the \"mathematical rules\" in Linear Algebra. But it works due to broadcasting in NumPy. "
   ]
  },
  {
   "cell_type": "code",
   "execution_count": 17,
   "metadata": {},
   "outputs": [
    {
     "name": "stdout",
     "output_type": "stream",
     "text": [
      "[2 3 4]\n"
     ]
    }
   ],
   "source": [
    "v1 = np.array([1, 2, 3])\n",
    "print(v1 + 1)"
   ]
  },
  {
   "cell_type": "code",
   "execution_count": 18,
   "metadata": {},
   "outputs": [
    {
     "name": "stdout",
     "output_type": "stream",
     "text": [
      "[[1 2]\n",
      " [3 4]]\n",
      "[2 2]\n"
     ]
    }
   ],
   "source": [
    "A = np.arange(1, 5).reshape(2,2)\n",
    "print(A)\n",
    "\n",
    "b = np.array([2, 2])\n",
    "print(b)"
   ]
  },
  {
   "cell_type": "markdown",
   "metadata": {},
   "source": [
    "# Linear Algebra Exercises"
   ]
  },
  {
   "cell_type": "markdown",
   "metadata": {},
   "source": [
    "The exercies are taken from the \"Matrix Algebra for Engineers\" by Chasnov: https://www.math.hkust.edu.hk/~machas/matrix-algebra-for-engineers.pdf .\n",
    "\n",
    "Do the following exercises: \n",
    "* Chapter 2, exercise 1-3.\n",
    "* Quiz on p.8, exercise 2. \n",
    "* Chapter 6, exercise 1. \n",
    "* Quiz on p.15, exercise 3. \n",
    "\n",
    "\n",
    "* Chapter 10, exercise 1. \n",
    "* Chapter 12 exercise 1. \n"
   ]
  },
  {
   "cell_type": "code",
   "execution_count": 19,
   "metadata": {},
   "outputs": [
    {
     "name": "stdout",
     "output_type": "stream",
     "text": [
      "[[ 2  1 -1]\n",
      " [ 1 -1  1]]\n",
      "[[ 4 -2  1]\n",
      " [ 2 -4 -2]]\n",
      "[[1 2]\n",
      " [2 1]]\n",
      "[[3 4]\n",
      " [4 3]]\n",
      "[[1]\n",
      " [2]]\n"
     ]
    }
   ],
   "source": [
    "A = np.array([[2, 1, -1], [1, -1, 1]])\n",
    "B = np.array([[4, -2, 1], [2, -4, -2]])\n",
    "\n",
    "C = np.array([[1, 2], [2, 1]])\n",
    "D = np.array([[3, 4], [4, 3]])\n",
    "\n",
    "E = np.array([[1], [2]])\n",
    "\n",
    "print(A)\n",
    "print(B)\n",
    "print(C)\n",
    "print(D)\n",
    "print(E)"
   ]
  },
  {
   "cell_type": "markdown",
   "metadata": {},
   "source": [
    "**Chap2. Question 1.**\n",
    "\n",
    "**Write a function \"add_mult_matrices\" that takes two matrices as input arguments (validate that the input are of the type numpy.ndarray by using the isinstance function), a third argument that is either 'add' or 'multiply' that specifies if you want to add or multiply the matrices (validate that the third argument is either 'add' or 'multiply'). When doing matrix addition, validate that the matrices have the same size. When doing matrix multiplication, validate that the sizes conform (i.e. number of columns in the first matrix is equal to the number of rows in the second matrix).**\n",
    "\n",
    "In this exercise, create a function that takes two matrices as input and either adds or multiplies them by specifying a argument as either 'add' or 'multiply'. Validate that both matrices taken as input are of the type ndarray (use the isinstance function)."
   ]
  },
  {
   "cell_type": "code",
   "execution_count": 20,
   "metadata": {},
   "outputs": [
    {
     "name": "stdout",
     "output_type": "stream",
     "text": [
      "Matrix A:\n",
      "[[1 2]\n",
      " [3 4]]\n",
      "Matrix B:\n",
      "[[5 6]\n",
      " [7 8]]\n",
      "Result of Addition:\n",
      "[[ 6  8]\n",
      " [10 12]]\n",
      "Result of Multiplication:\n",
      "[[19 22]\n",
      " [43 50]]\n"
     ]
    }
   ],
   "source": [
    "import numpy as np\n",
    "\n",
    "def add_mult_matrices(matrix1, matrix2, operation):\n",
    "    # Validate that both input matrices are of type numpy.ndarray\n",
    "    if not isinstance(matrix1, np.ndarray) or not isinstance(matrix2, np.ndarray):\n",
    "        raise ValueError(\"Both input matrices must be of type numpy.ndarray\")\n",
    "\n",
    "    if operation == 'add':\n",
    "        # Validate that the matrices have the same shape for addition\n",
    "        if matrix1.shape != matrix2.shape:\n",
    "            raise ValueError(\"Matrices must have the same shape for addition\")\n",
    "        result = matrix1 + matrix2\n",
    "    elif operation == 'multiply':\n",
    "        # Validate that the matrix sizes conform for multiplication\n",
    "        if matrix1.shape[1] != matrix2.shape[0]:\n",
    "            raise ValueError(\"Matrix sizes do not conform for multiplication\")\n",
    "        result = np.dot(matrix1, matrix2)\n",
    "    else:\n",
    "        raise ValueError(\"Invalid operation. Use 'add' or 'multiply' as the operation.\")\n",
    "\n",
    "    return result\n",
    "\n",
    "# Example usage:\n",
    "matrix_a = np.array([[1, 2], [3, 4]])\n",
    "matrix_b = np.array([[5, 6], [7, 8]])\n",
    "result_add = add_mult_matrices(matrix_a, matrix_b, 'add')\n",
    "result_multiply = add_mult_matrices(matrix_a, matrix_b, 'multiply')\n",
    "\n",
    "print(\"Matrix A:\")\n",
    "print(matrix_a)\n",
    "print(\"Matrix B:\")\n",
    "print(matrix_b)\n",
    "print(\"Result of Addition:\")\n",
    "print(result_add)\n",
    "print(\"Result of Multiplication:\")\n",
    "print(result_multiply)\n"
   ]
  },
  {
   "cell_type": "markdown",
   "metadata": {},
   "source": [
    "**Chap2. Question 2**"
   ]
  },
  {
   "cell_type": "code",
   "execution_count": 21,
   "metadata": {},
   "outputs": [
    {
     "name": "stdout",
     "output_type": "stream",
     "text": [
      "[[-2  2]\n",
      " [ 2 -2]]\n"
     ]
    }
   ],
   "source": [
    "import numpy as np\n",
    "\n",
    "# Define Matrix A\n",
    "A = np.array([[1, -1],\n",
    "              [-1, 1]])\n",
    "\n",
    "# Define Matrix B\n",
    "B = np.array([[-1, 1],\n",
    "              [1, -1]])\n",
    "\n",
    "# Calculate the matrix product\n",
    "C = np.dot(A, B)\n",
    "\n",
    "# Print the resulting matrix C\n",
    "print(C)\n"
   ]
  },
  {
   "cell_type": "markdown",
   "metadata": {},
   "source": [
    "**Chap2. Question 3**"
   ]
  },
  {
   "cell_type": "code",
   "execution_count": 22,
   "metadata": {},
   "outputs": [
    {
     "name": "stdout",
     "output_type": "stream",
     "text": [
      "Matrix A (Upper Triangular):\n",
      "[[2 3 3 1]\n",
      " [0 2 3 3]\n",
      " [0 0 4 1]\n",
      " [0 0 0 1]]\n",
      "\n",
      "Matrix B (Upper Triangular):\n",
      "[[3 3 3 4]\n",
      " [0 4 4 1]\n",
      " [0 0 3 3]\n",
      " [0 0 0 4]]\n",
      "\n",
      "Matrix AB (Result of AB):\n",
      "[[ 6.  6.  6.  8.]\n",
      " [ 0.  8.  8.  2.]\n",
      " [ 0.  0. 12. 12.]\n",
      " [ 0.  0.  0.  4.]]\n"
     ]
    }
   ],
   "source": [
    "import numpy as np\n",
    "\n",
    "# Define the size of the matrices\n",
    "n = 4\n",
    "\n",
    "# Create upper triangular matrices A and B\n",
    "A = np.triu(np.random.randint(1, 5, (n, n)), 0)\n",
    "B = np.triu(np.random.randint(1, 5, (n, n)), 0)\n",
    "\n",
    "# Initialize the product matrix AB\n",
    "AB = np.zeros((n, n))\n",
    "\n",
    "# Calculate the matrix product (AB)ij\n",
    "for i in range(n):\n",
    "    for j in range(n):\n",
    "        for k in range(i + 1):\n",
    "            AB[i, j] += A[i, k] * B[k, j]\n",
    "\n",
    "# Print matrices A, B, and the resulting AB\n",
    "print(\"Matrix A (Upper Triangular):\")\n",
    "print(A)\n",
    "print(\"\\nMatrix B (Upper Triangular):\")\n",
    "print(B)\n",
    "print(\"\\nMatrix AB (Result of AB):\")\n",
    "print(AB)\n"
   ]
  },
  {
   "cell_type": "markdown",
   "metadata": {},
   "source": [
    "**Quiz p.11, Question 2**"
   ]
  },
  {
   "cell_type": "code",
   "execution_count": 23,
   "metadata": {},
   "outputs": [
    {
     "name": "stdout",
     "output_type": "stream",
     "text": [
      "Matrix A:\n",
      "[[3 8 7 4]\n",
      " [1 3 4 9]\n",
      " [7 2 8 4]\n",
      " [9 3 8 9]]\n",
      "\n",
      "Symmetric Matrix A_s:\n",
      "[[3.  4.5 7.  6.5]\n",
      " [4.5 3.  3.  6. ]\n",
      " [7.  3.  8.  6. ]\n",
      " [6.5 6.  6.  9. ]]\n",
      "\n",
      "Skew-Symmetric Matrix A_k:\n",
      "[[ 0.   3.5  0.  -2.5]\n",
      " [-3.5  0.   1.   3. ]\n",
      " [ 0.  -1.   0.  -2. ]\n",
      " [ 2.5 -3.   2.   0. ]]\n",
      "\n",
      "A = A_s + A_k:\n",
      "[[3. 8. 7. 4.]\n",
      " [1. 3. 4. 9.]\n",
      " [7. 2. 8. 4.]\n",
      " [9. 3. 8. 9.]]\n"
     ]
    }
   ],
   "source": [
    "import numpy as np\n",
    "\n",
    "# Create a random square matrix A\n",
    "n = 4  # Size of the matrix\n",
    "A = np.random.randint(1, 10, (n, n))\n",
    "\n",
    "# Calculate the symmetric matrix A_s\n",
    "A_s = 0.5 * (A + A.T)\n",
    "\n",
    "# Calculate the skew-symmetric matrix A_k\n",
    "A_k = 0.5 * (A - A.T)\n",
    "\n",
    "# Verify that A = A_s + A_k\n",
    "sum_matrix = A_s + A_k\n",
    "\n",
    "# Print the matrices\n",
    "print(\"Matrix A:\")\n",
    "print(A)\n",
    "print(\"\\nSymmetric Matrix A_s:\")\n",
    "print(A_s)\n",
    "print(\"\\nSkew-Symmetric Matrix A_k:\")\n",
    "print(A_k)\n",
    "print(\"\\nA = A_s + A_k:\")\n",
    "print(sum_matrix)\n"
   ]
  },
  {
   "cell_type": "markdown",
   "metadata": {},
   "source": [
    "**Chap 6. Question 1**"
   ]
  },
  {
   "cell_type": "code",
   "execution_count": 24,
   "metadata": {},
   "outputs": [
    {
     "name": "stdout",
     "output_type": "stream",
     "text": [
      "Inverse of Matrix A:\n",
      "[[ 5. -6.]\n",
      " [-4.  5.]]\n",
      "\n",
      "Inverse of Matrix B:\n",
      "[[ 0.5        -0.66666667]\n",
      " [-0.5         1.        ]]\n"
     ]
    }
   ],
   "source": [
    "import numpy as np\n",
    "\n",
    "# Define the matrices\n",
    "A = np.array([[5, 6], [4, 5]])\n",
    "B = np.array([[6, 4], [3, 3]])\n",
    "\n",
    "# Calculate the inverses\n",
    "A_inverse = np.linalg.inv(A)\n",
    "B_inverse = np.linalg.inv(B)\n",
    "\n",
    "# Print the inverse matrices\n",
    "print(\"Inverse of Matrix A:\")\n",
    "print(A_inverse)\n",
    "print(\"\\nInverse of Matrix B:\")\n",
    "print(B_inverse)\n"
   ]
  },
  {
   "cell_type": "markdown",
   "metadata": {},
   "source": [
    "**Quiz p.19, Question 3**"
   ]
  },
  {
   "cell_type": "code",
   "execution_count": 25,
   "metadata": {},
   "outputs": [
    {
     "name": "stdout",
     "output_type": "stream",
     "text": [
      "Rotation Matrix (Rz):\n",
      "[[ 0.70710678 -0.70710678  0.        ]\n",
      " [ 0.70710678  0.70710678  0.        ]\n",
      " [ 0.          0.          1.        ]]\n"
     ]
    }
   ],
   "source": [
    "# Define the angle of rotation (in radians)\n",
    "theta = np.pi / 4  # Rotate by 45 degrees (pi/4 radians)\n",
    "\n",
    "# Create the z-rotation matrix\n",
    "Rz = np.array([[np.cos(theta), -np.sin(theta), 0],\n",
    "              [np.sin(theta), np.cos(theta), 0],\n",
    "              [0, 0, 1]])\n",
    "\n",
    "# Print the rotation matrix\n",
    "print(\"Rotation Matrix (Rz):\")\n",
    "print(Rz)"
   ]
  },
  {
   "cell_type": "markdown",
   "metadata": {},
   "source": [
    "**Chap10. Question 1 a)**"
   ]
  },
  {
   "cell_type": "code",
   "execution_count": 26,
   "metadata": {},
   "outputs": [
    {
     "name": "stdout",
     "output_type": "stream",
     "text": [
      "Matrix a) is orthogonal: True\n",
      "Matrix b) is orthogonal: True\n",
      "Matrix c) is orthogonal: True\n",
      "Matrix d) is orthogonal: False\n"
     ]
    }
   ],
   "source": [
    "import numpy as np\n",
    "\n",
    "# Define the matrices\n",
    "matrix_a = np.array([[0, 1], [-1, 0]])\n",
    "matrix_b = np.array([[1, 0], [0, -1]])\n",
    "matrix_c = np.array([[0, 1], [1, 0]])\n",
    "matrix_d = np.array([[1, -1], [0, 0]])\n",
    "\n",
    "# Check orthogonality\n",
    "def is_orthogonal(matrix):\n",
    "    return np.allclose(np.dot(matrix, matrix.T), np.eye(len(matrix)))\n",
    "\n",
    "# Check orthogonality of each matrix\n",
    "is_orthogonal_a = is_orthogonal(matrix_a)\n",
    "is_orthogonal_b = is_orthogonal(matrix_b)\n",
    "is_orthogonal_c = is_orthogonal(matrix_c)\n",
    "is_orthogonal_d = is_orthogonal(matrix_d)\n",
    "\n",
    "# Print the results\n",
    "print(\"Matrix a) is orthogonal:\", is_orthogonal_a)\n",
    "print(\"Matrix b) is orthogonal:\", is_orthogonal_b)\n",
    "print(\"Matrix c) is orthogonal:\", is_orthogonal_c)\n",
    "print(\"Matrix d) is orthogonal:\", is_orthogonal_d)\n"
   ]
  },
  {
   "cell_type": "markdown",
   "metadata": {},
   "source": [
    "**Chap10. Question 1 b)**"
   ]
  },
  {
   "cell_type": "code",
   "execution_count": 27,
   "metadata": {},
   "outputs": [
    {
     "name": "stdout",
     "output_type": "stream",
     "text": [
      "Matrix a) performs the row permutation: False\n",
      "Matrix b) performs the row permutation: False\n",
      "Matrix c) performs the row permutation: False\n",
      "Matrix d) performs the row permutation: False\n"
     ]
    }
   ],
   "source": [
    "import numpy as np\n",
    "\n",
    "# Define the given matrices\n",
    "matrix_a = np.array([[0, 1, 0], [0, 0, 1], [1, 0, 0]])\n",
    "matrix_b = np.array([[0, 0, 1], [1, 0, 0], [0, 1, 0]])\n",
    "matrix_c = np.array([[0, 0, 1], [0, 1, 0], [1, 0, 0]])\n",
    "matrix_d = np.array([[1, 0, 0], [0, 0, 1], [0, 1, 0]])\n",
    "\n",
    "# Define a row permutation\n",
    "row_permutation = np.array([[0, 1, 0], [0, 0, 1], [1, 0, 0]])\n",
    "\n",
    "# Function to check if a matrix performs the specified row permutation\n",
    "def performs_row_permutation(matrix, row_permutation):\n",
    "    return np.array_equal(np.dot(matrix, row_permutation), matrix)\n",
    "\n",
    "# Check each matrix\n",
    "matrix_a_result = performs_row_permutation(matrix_a, row_permutation)\n",
    "matrix_b_result = performs_row_permutation(matrix_b, row_permutation)\n",
    "matrix_c_result = performs_row_permutation(matrix_c, row_permutation)\n",
    "matrix_d_result = performs_row_permutation(matrix_d, row_permutation)\n",
    "\n",
    "# Print the results\n",
    "print(\"Matrix a) performs the row permutation:\", matrix_a_result)\n",
    "print(\"Matrix b) performs the row permutation:\", matrix_b_result)\n",
    "print(\"Matrix c) performs the row permutation:\", matrix_c_result)\n",
    "print(\"Matrix d) performs the row permutation:\", matrix_d_result)\n"
   ]
  },
  {
   "cell_type": "markdown",
   "metadata": {},
   "source": [
    "**Chap 12. Question 1**"
   ]
  },
  {
   "cell_type": "code",
   "execution_count": 28,
   "metadata": {},
   "outputs": [
    {
     "name": "stdout",
     "output_type": "stream",
     "text": [
      "Inverse of the matrix:\n",
      "[[ 0.66666667  1.33333333  0.5       ]\n",
      " [ 1.          2.          0.5       ]\n",
      " [-3.         -5.         -1.        ]]\n"
     ]
    }
   ],
   "source": [
    "import numpy as np\n",
    "\n",
    "# Define the matrix\n",
    "matrix = np.array([[3, -7, -2], [-3, 5, 1], [6, -4, 0]])\n",
    "\n",
    "# Calculate the inverse\n",
    "matrix_inverse = np.linalg.inv(matrix)\n",
    "\n",
    "print(\"Inverse of the matrix:\")\n",
    "print(matrix_inverse)\n"
   ]
  },
  {
   "cell_type": "markdown",
   "metadata": {},
   "source": [
    "### Copies and Views\n",
    "Read the following link: https://numpy.org/doc/stable/user/basics.copies.html"
   ]
  },
  {
   "cell_type": "markdown",
   "metadata": {},
   "source": [
    "**Basic indexing creates a view, How can you check if v1 and v2 is a view or copy? If you change the last element in v2 to 123, will the last element in v1 be changed? Why?**"
   ]
  },
  {
   "cell_type": "code",
   "execution_count": 29,
   "metadata": {},
   "outputs": [
    {
     "name": "stdout",
     "output_type": "stream",
     "text": [
      "[0 1 2 3]\n",
      "[2 3]\n"
     ]
    }
   ],
   "source": [
    "v1 = np.arange(4)\n",
    "v2 = v1[-2:]\n",
    "print(v1)\n",
    "print(v2)"
   ]
  },
  {
   "cell_type": "code",
   "execution_count": 30,
   "metadata": {},
   "outputs": [
    {
     "name": "stdout",
     "output_type": "stream",
     "text": [
      "None\n",
      "[0 1 2 3]\n"
     ]
    }
   ],
   "source": [
    "# The base attribute of a view returns the original array while it returns None for a copy.\n",
    "print(v1.base)\n",
    "print(v2.base)"
   ]
  },
  {
   "cell_type": "code",
   "execution_count": 31,
   "metadata": {},
   "outputs": [
    {
     "name": "stdout",
     "output_type": "stream",
     "text": [
      "[  0   1   2 123]\n",
      "[  2 123]\n"
     ]
    }
   ],
   "source": [
    "# The last element in v1 will be changed aswell since v2 is a view, meaning they share the same data buffer.\n",
    "v2[-1] = 123\n",
    "print(v1)\n",
    "print(v2)"
   ]
  },
  {
   "cell_type": "code",
   "execution_count": 32,
   "metadata": {},
   "outputs": [
    {
     "data": {
      "text/plain": [
       "'\\n    The v1.base will return None because v1 is the original array created by np.arange(4). \\n    The v2.base will return v1 because v2 is a view of the last two elements of v1. \\n    Since v2 is a view, modifying it will also change the corresponding elements in v1. \\n    Therefore, the last element in v1 will be changed to 123, as mentioned.\\n'"
      ]
     },
     "execution_count": 32,
     "metadata": {},
     "output_type": "execute_result"
    }
   ],
   "source": [
    "\"\"\"\n",
    "    The v1.base will return None because v1 is the original array created by np.arange(4). \n",
    "    The v2.base will return v1 because v2 is a view of the last two elements of v1. \n",
    "    Since v2 is a view, modifying it will also change the corresponding elements in v1. \n",
    "    Therefore, the last element in v1 will be changed to 123, as mentioned.\n",
    "\"\"\""
   ]
  }
 ],
 "metadata": {
  "kernelspec": {
   "display_name": "Python 3",
   "language": "python",
   "name": "python3"
  },
  "language_info": {
   "codemirror_mode": {
    "name": "ipython",
    "version": 3
   },
   "file_extension": ".py",
   "mimetype": "text/x-python",
   "name": "python",
   "nbconvert_exporter": "python",
   "pygments_lexer": "ipython3",
   "version": "3.7.3"
  }
 },
 "nbformat": 4,
 "nbformat_minor": 5
}
